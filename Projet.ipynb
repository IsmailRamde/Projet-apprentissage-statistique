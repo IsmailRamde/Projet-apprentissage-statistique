{
 "cells": [
  {
   "cell_type": "markdown",
   "id": "ee49309a",
   "metadata": {},
   "source": [
    "## <center>Examen mi-parcours </center>\n",
    "<center>Master parcours SSD - UE Apprentissage statistique 2 </center>\n",
    "<center>Automne 2021 </center>"
   ]
  },
  {
   "cell_type": "code",
   "execution_count": 1,
   "id": "2aa6af21",
   "metadata": {},
   "outputs": [],
   "source": [
    "# load package\n",
    "import pandas as pd \n",
    "import numpy as np\n",
    "import matplotlib.pylab as plt\n",
    "from sklearn.metrics import roc_auc_score,roc_curve\n",
    "from sklearn.metrics import accuracy_score"
   ]
  },
  {
   "cell_type": "markdown",
   "id": "d6faf769",
   "metadata": {},
   "source": [
    "### Statistique descriptive"
   ]
  },
  {
   "cell_type": "code",
   "execution_count": 2,
   "id": "af273391",
   "metadata": {},
   "outputs": [
    {
     "data": {
      "text/html": [
       "<div>\n",
       "<style scoped>\n",
       "    .dataframe tbody tr th:only-of-type {\n",
       "        vertical-align: middle;\n",
       "    }\n",
       "\n",
       "    .dataframe tbody tr th {\n",
       "        vertical-align: top;\n",
       "    }\n",
       "\n",
       "    .dataframe thead th {\n",
       "        text-align: right;\n",
       "    }\n",
       "</style>\n",
       "<table border=\"1\" class=\"dataframe\">\n",
       "  <thead>\n",
       "    <tr style=\"text-align: right;\">\n",
       "      <th></th>\n",
       "      <th>EXERCISE_FREQUENCY</th>\n",
       "      <th>SEX</th>\n",
       "      <th>ONE_LITER_OF_WATER_A_DAY_FREQUENCY</th>\n",
       "      <th>SEAFOOD_FREQUENCY</th>\n",
       "      <th>PROBIOTIC_FREQUENCY</th>\n",
       "      <th>OLIVE_OIL</th>\n",
       "      <th>FRUIT_FREQUENCY</th>\n",
       "      <th>SLEEP_DURATION</th>\n",
       "      <th>SUGAR_SWEETENED_DRINK_FREQUENCY</th>\n",
       "      <th>MILK_CHEESE_FREQUENCY</th>\n",
       "      <th>RED_MEAT_FREQUENCY</th>\n",
       "      <th>MEAT_EGGS_FREQUENCY</th>\n",
       "      <th>VEGETABLE_FREQUENCY</th>\n",
       "    </tr>\n",
       "  </thead>\n",
       "  <tbody>\n",
       "    <tr>\n",
       "      <th>0</th>\n",
       "      <td>2</td>\n",
       "      <td>0</td>\n",
       "      <td>4</td>\n",
       "      <td>2</td>\n",
       "      <td>4</td>\n",
       "      <td>0</td>\n",
       "      <td>3</td>\n",
       "      <td>4</td>\n",
       "      <td>0</td>\n",
       "      <td>0</td>\n",
       "      <td>3</td>\n",
       "      <td>4</td>\n",
       "      <td>3</td>\n",
       "    </tr>\n",
       "    <tr>\n",
       "      <th>1</th>\n",
       "      <td>0</td>\n",
       "      <td>1</td>\n",
       "      <td>3</td>\n",
       "      <td>1</td>\n",
       "      <td>0</td>\n",
       "      <td>3</td>\n",
       "      <td>2</td>\n",
       "      <td>3</td>\n",
       "      <td>1</td>\n",
       "      <td>1</td>\n",
       "      <td>1</td>\n",
       "      <td>2</td>\n",
       "      <td>2</td>\n",
       "    </tr>\n",
       "    <tr>\n",
       "      <th>2</th>\n",
       "      <td>2</td>\n",
       "      <td>1</td>\n",
       "      <td>3</td>\n",
       "      <td>2</td>\n",
       "      <td>4</td>\n",
       "      <td>2</td>\n",
       "      <td>4</td>\n",
       "      <td>5</td>\n",
       "      <td>0</td>\n",
       "      <td>1</td>\n",
       "      <td>1</td>\n",
       "      <td>4</td>\n",
       "      <td>4</td>\n",
       "    </tr>\n",
       "    <tr>\n",
       "      <th>3</th>\n",
       "      <td>3</td>\n",
       "      <td>0</td>\n",
       "      <td>4</td>\n",
       "      <td>1</td>\n",
       "      <td>0</td>\n",
       "      <td>2</td>\n",
       "      <td>0</td>\n",
       "      <td>2</td>\n",
       "      <td>0</td>\n",
       "      <td>4</td>\n",
       "      <td>2</td>\n",
       "      <td>4</td>\n",
       "      <td>3</td>\n",
       "    </tr>\n",
       "    <tr>\n",
       "      <th>4</th>\n",
       "      <td>3</td>\n",
       "      <td>1</td>\n",
       "      <td>2</td>\n",
       "      <td>1</td>\n",
       "      <td>1</td>\n",
       "      <td>4</td>\n",
       "      <td>3</td>\n",
       "      <td>4</td>\n",
       "      <td>0</td>\n",
       "      <td>3</td>\n",
       "      <td>3</td>\n",
       "      <td>4</td>\n",
       "      <td>3</td>\n",
       "    </tr>\n",
       "  </tbody>\n",
       "</table>\n",
       "</div>"
      ],
      "text/plain": [
       "   EXERCISE_FREQUENCY  SEX  ONE_LITER_OF_WATER_A_DAY_FREQUENCY  \\\n",
       "0                   2    0                                   4   \n",
       "1                   0    1                                   3   \n",
       "2                   2    1                                   3   \n",
       "3                   3    0                                   4   \n",
       "4                   3    1                                   2   \n",
       "\n",
       "   SEAFOOD_FREQUENCY  PROBIOTIC_FREQUENCY  OLIVE_OIL  FRUIT_FREQUENCY  \\\n",
       "0                  2                    4          0                3   \n",
       "1                  1                    0          3                2   \n",
       "2                  2                    4          2                4   \n",
       "3                  1                    0          2                0   \n",
       "4                  1                    1          4                3   \n",
       "\n",
       "   SLEEP_DURATION  SUGAR_SWEETENED_DRINK_FREQUENCY  MILK_CHEESE_FREQUENCY  \\\n",
       "0               4                                0                      0   \n",
       "1               3                                1                      1   \n",
       "2               5                                0                      1   \n",
       "3               2                                0                      4   \n",
       "4               4                                0                      3   \n",
       "\n",
       "   RED_MEAT_FREQUENCY  MEAT_EGGS_FREQUENCY  VEGETABLE_FREQUENCY  \n",
       "0                   3                    4                    3  \n",
       "1                   1                    2                    2  \n",
       "2                   1                    4                    4  \n",
       "3                   2                    4                    3  \n",
       "4                   3                    4                    3  "
      ]
     },
     "execution_count": 2,
     "metadata": {},
     "output_type": "execute_result"
    }
   ],
   "source": [
    "# load data\n",
    "train_data_clinical = pd.read_csv(\"dataset/train-data_clinical.csv\",sep=\";\")\n",
    "train_data_clinical.shape\n",
    "train_data_clinical.head()"
   ]
  },
  {
   "cell_type": "code",
   "execution_count": 3,
   "id": "8c9d7df1",
   "metadata": {},
   "outputs": [
    {
     "data": {
      "text/plain": [
       "(850, 13)"
      ]
     },
     "execution_count": 3,
     "metadata": {},
     "output_type": "execute_result"
    }
   ],
   "source": [
    "test_data_clinical = pd.read_csv(\"dataset/test-data_clinical.csv\",sep=\";\",decimal=\".\")\n",
    "test_data_clinical.shape"
   ]
  },
  {
   "cell_type": "code",
   "execution_count": 5,
   "id": "bfb18c71",
   "metadata": {},
   "outputs": [
    {
     "name": "stdout",
     "output_type": "stream",
     "text": [
      "<class 'pandas.core.frame.DataFrame'>\n",
      "RangeIndex: 4965 entries, 0 to 4964\n",
      "Columns: 7033 entries, OTU_1 to OTU_7033\n",
      "dtypes: object(7033)\n",
      "memory usage: 266.4+ MB\n"
     ]
    }
   ],
   "source": [
    "train_data_otu = pd.read_csv(\"dataset/train-data_otu.csv\",sep=\";\",low_memory=False,decimal=\".\") \n",
    "train_data_otu.shape\n",
    "train_data_otu.info()"
   ]
  },
  {
   "cell_type": "code",
   "execution_count": 6,
   "id": "af7a3c5f",
   "metadata": {},
   "outputs": [
    {
     "data": {
      "text/html": [
       "<div>\n",
       "<style scoped>\n",
       "    .dataframe tbody tr th:only-of-type {\n",
       "        vertical-align: middle;\n",
       "    }\n",
       "\n",
       "    .dataframe tbody tr th {\n",
       "        vertical-align: top;\n",
       "    }\n",
       "\n",
       "    .dataframe thead th {\n",
       "        text-align: right;\n",
       "    }\n",
       "</style>\n",
       "<table border=\"1\" class=\"dataframe\">\n",
       "  <thead>\n",
       "    <tr style=\"text-align: right;\">\n",
       "      <th></th>\n",
       "      <th>OTU_1</th>\n",
       "      <th>OTU_2</th>\n",
       "      <th>OTU_3</th>\n",
       "      <th>OTU_4</th>\n",
       "      <th>OTU_5</th>\n",
       "      <th>OTU_6</th>\n",
       "      <th>OTU_7</th>\n",
       "      <th>OTU_8</th>\n",
       "      <th>OTU_9</th>\n",
       "      <th>OTU_10</th>\n",
       "      <th>...</th>\n",
       "      <th>OTU_7024</th>\n",
       "      <th>OTU_7025</th>\n",
       "      <th>OTU_7026</th>\n",
       "      <th>OTU_7027</th>\n",
       "      <th>OTU_7028</th>\n",
       "      <th>OTU_7029</th>\n",
       "      <th>OTU_7030</th>\n",
       "      <th>OTU_7031</th>\n",
       "      <th>OTU_7032</th>\n",
       "      <th>OTU_7033</th>\n",
       "    </tr>\n",
       "  </thead>\n",
       "  <tbody>\n",
       "    <tr>\n",
       "      <th>0</th>\n",
       "      <td>0,180439273676199</td>\n",
       "      <td>0,238664781994129</td>\n",
       "      <td>0</td>\n",
       "      <td>0,00385995433293465</td>\n",
       "      <td>0</td>\n",
       "      <td>0</td>\n",
       "      <td>0</td>\n",
       "      <td>0,000869848863759922</td>\n",
       "      <td>0,0167445906273785</td>\n",
       "      <td>0</td>\n",
       "      <td>...</td>\n",
       "      <td>0</td>\n",
       "      <td>0</td>\n",
       "      <td>0</td>\n",
       "      <td>0</td>\n",
       "      <td>0</td>\n",
       "      <td>0</td>\n",
       "      <td>0</td>\n",
       "      <td>0</td>\n",
       "      <td>0</td>\n",
       "      <td>0</td>\n",
       "    </tr>\n",
       "    <tr>\n",
       "      <th>1</th>\n",
       "      <td>0,000883197173769044</td>\n",
       "      <td>0,000504684099296597</td>\n",
       "      <td>0,000378513074472447</td>\n",
       "      <td>0,00170330883512601</td>\n",
       "      <td>0,000378513074472447</td>\n",
       "      <td>0</td>\n",
       "      <td>0,0159921773964609</td>\n",
       "      <td>0,0166230325205817</td>\n",
       "      <td>0</td>\n",
       "      <td>0</td>\n",
       "      <td>...</td>\n",
       "      <td>0</td>\n",
       "      <td>0</td>\n",
       "      <td>0</td>\n",
       "      <td>0</td>\n",
       "      <td>0</td>\n",
       "      <td>0</td>\n",
       "      <td>0</td>\n",
       "      <td>0</td>\n",
       "      <td>0</td>\n",
       "      <td>0</td>\n",
       "    </tr>\n",
       "    <tr>\n",
       "      <th>2</th>\n",
       "      <td>0,715733658673924</td>\n",
       "      <td>0,00225235793721552</td>\n",
       "      <td>0,0245413166909108</td>\n",
       "      <td>0,00183004082398761</td>\n",
       "      <td>0</td>\n",
       "      <td>0,0156726573131247</td>\n",
       "      <td>0,00168926845291164</td>\n",
       "      <td>0,000797710102763831</td>\n",
       "      <td>0,00183004082398761</td>\n",
       "      <td>0</td>\n",
       "      <td>...</td>\n",
       "      <td>0</td>\n",
       "      <td>0</td>\n",
       "      <td>0</td>\n",
       "      <td>0</td>\n",
       "      <td>0</td>\n",
       "      <td>0</td>\n",
       "      <td>0</td>\n",
       "      <td>0</td>\n",
       "      <td>0</td>\n",
       "      <td>0</td>\n",
       "    </tr>\n",
       "    <tr>\n",
       "      <th>3</th>\n",
       "      <td>0,00238338440585632</td>\n",
       "      <td>0,00374531835205993</td>\n",
       "      <td>0,00340483486550902</td>\n",
       "      <td>0,154125524912042</td>\n",
       "      <td>0,00612870275791624</td>\n",
       "      <td>0</td>\n",
       "      <td>0,145386448757235</td>\n",
       "      <td>0</td>\n",
       "      <td>0</td>\n",
       "      <td>0,0396095789354216</td>\n",
       "      <td>...</td>\n",
       "      <td>0</td>\n",
       "      <td>0</td>\n",
       "      <td>0</td>\n",
       "      <td>0</td>\n",
       "      <td>0</td>\n",
       "      <td>0</td>\n",
       "      <td>0</td>\n",
       "      <td>0</td>\n",
       "      <td>0</td>\n",
       "      <td>0</td>\n",
       "    </tr>\n",
       "    <tr>\n",
       "      <th>4</th>\n",
       "      <td>0,000683565935630874</td>\n",
       "      <td>0</td>\n",
       "      <td>0,105553973227001</td>\n",
       "      <td>0,0656223298205639</td>\n",
       "      <td>0,210823127314156</td>\n",
       "      <td>0,0504699515807462</td>\n",
       "      <td>0,0238678439191114</td>\n",
       "      <td>0,0694958701224722</td>\n",
       "      <td>0,00262033608658502</td>\n",
       "      <td>0</td>\n",
       "      <td>...</td>\n",
       "      <td>0</td>\n",
       "      <td>0</td>\n",
       "      <td>0</td>\n",
       "      <td>0</td>\n",
       "      <td>0</td>\n",
       "      <td>0</td>\n",
       "      <td>0</td>\n",
       "      <td>0</td>\n",
       "      <td>0</td>\n",
       "      <td>0</td>\n",
       "    </tr>\n",
       "  </tbody>\n",
       "</table>\n",
       "<p>5 rows × 7033 columns</p>\n",
       "</div>"
      ],
      "text/plain": [
       "                  OTU_1                 OTU_2                 OTU_3  \\\n",
       "0     0,180439273676199     0,238664781994129                     0   \n",
       "1  0,000883197173769044  0,000504684099296597  0,000378513074472447   \n",
       "2     0,715733658673924   0,00225235793721552    0,0245413166909108   \n",
       "3   0,00238338440585632   0,00374531835205993   0,00340483486550902   \n",
       "4  0,000683565935630874                     0     0,105553973227001   \n",
       "\n",
       "                 OTU_4                 OTU_5               OTU_6  \\\n",
       "0  0,00385995433293465                     0                   0   \n",
       "1  0,00170330883512601  0,000378513074472447                   0   \n",
       "2  0,00183004082398761                     0  0,0156726573131247   \n",
       "3    0,154125524912042   0,00612870275791624                   0   \n",
       "4   0,0656223298205639     0,210823127314156  0,0504699515807462   \n",
       "\n",
       "                 OTU_7                 OTU_8                OTU_9  \\\n",
       "0                    0  0,000869848863759922   0,0167445906273785   \n",
       "1   0,0159921773964609    0,0166230325205817                    0   \n",
       "2  0,00168926845291164  0,000797710102763831  0,00183004082398761   \n",
       "3    0,145386448757235                     0                    0   \n",
       "4   0,0238678439191114    0,0694958701224722  0,00262033608658502   \n",
       "\n",
       "               OTU_10  ... OTU_7024 OTU_7025 OTU_7026 OTU_7027 OTU_7028  \\\n",
       "0                   0  ...        0        0        0        0        0   \n",
       "1                   0  ...        0        0        0        0        0   \n",
       "2                   0  ...        0        0        0        0        0   \n",
       "3  0,0396095789354216  ...        0        0        0        0        0   \n",
       "4                   0  ...        0        0        0        0        0   \n",
       "\n",
       "  OTU_7029 OTU_7030 OTU_7031 OTU_7032 OTU_7033  \n",
       "0        0        0        0        0        0  \n",
       "1        0        0        0        0        0  \n",
       "2        0        0        0        0        0  \n",
       "3        0        0        0        0        0  \n",
       "4        0        0        0        0        0  \n",
       "\n",
       "[5 rows x 7033 columns]"
      ]
     },
     "execution_count": 6,
     "metadata": {},
     "output_type": "execute_result"
    }
   ],
   "source": [
    "train_data_otu.head()"
   ]
  },
  {
   "cell_type": "code",
   "execution_count": 7,
   "id": "00df985e",
   "metadata": {},
   "outputs": [
    {
     "name": "stdout",
     "output_type": "stream",
     "text": [
      "<class 'pandas.core.frame.DataFrame'>\n",
      "RangeIndex: 850 entries, 0 to 849\n",
      "Columns: 7033 entries, OTU_1 to OTU_7033\n",
      "dtypes: int64(37), object(6996)\n",
      "memory usage: 45.6+ MB\n"
     ]
    }
   ],
   "source": [
    "test_data_otu =pd.read_csv(\"dataset/test-data_otu.csv\",sep=\";\",low_memory=False)\n",
    "test_data_otu.info()"
   ]
  },
  {
   "cell_type": "code",
   "execution_count": 8,
   "id": "042840af",
   "metadata": {},
   "outputs": [
    {
     "data": {
      "text/html": [
       "<div>\n",
       "<style scoped>\n",
       "    .dataframe tbody tr th:only-of-type {\n",
       "        vertical-align: middle;\n",
       "    }\n",
       "\n",
       "    .dataframe tbody tr th {\n",
       "        vertical-align: top;\n",
       "    }\n",
       "\n",
       "    .dataframe thead th {\n",
       "        text-align: right;\n",
       "    }\n",
       "</style>\n",
       "<table border=\"1\" class=\"dataframe\">\n",
       "  <thead>\n",
       "    <tr style=\"text-align: right;\">\n",
       "      <th></th>\n",
       "      <th>OTU_1</th>\n",
       "      <th>OTU_2</th>\n",
       "      <th>OTU_3</th>\n",
       "      <th>OTU_4</th>\n",
       "      <th>OTU_5</th>\n",
       "      <th>OTU_6</th>\n",
       "      <th>OTU_7</th>\n",
       "      <th>OTU_8</th>\n",
       "      <th>OTU_9</th>\n",
       "      <th>OTU_10</th>\n",
       "      <th>...</th>\n",
       "      <th>OTU_7024</th>\n",
       "      <th>OTU_7025</th>\n",
       "      <th>OTU_7026</th>\n",
       "      <th>OTU_7027</th>\n",
       "      <th>OTU_7028</th>\n",
       "      <th>OTU_7029</th>\n",
       "      <th>OTU_7030</th>\n",
       "      <th>OTU_7031</th>\n",
       "      <th>OTU_7032</th>\n",
       "      <th>OTU_7033</th>\n",
       "    </tr>\n",
       "  </thead>\n",
       "  <tbody>\n",
       "    <tr>\n",
       "      <th>0</th>\n",
       "      <td>0,266402938683244</td>\n",
       "      <td>0</td>\n",
       "      <td>0,00469059056230574</td>\n",
       "      <td>0,00514269567674484</td>\n",
       "      <td>0,132862390505793</td>\n",
       "      <td>0,000678157671658661</td>\n",
       "      <td>0,00299519638315908</td>\n",
       "      <td>0,0305170952246397</td>\n",
       "      <td>0,0394461712348121</td>\n",
       "      <td>0</td>\n",
       "      <td>...</td>\n",
       "      <td>0</td>\n",
       "      <td>0</td>\n",
       "      <td>0</td>\n",
       "      <td>0</td>\n",
       "      <td>0</td>\n",
       "      <td>0</td>\n",
       "      <td>0</td>\n",
       "      <td>0</td>\n",
       "      <td>0</td>\n",
       "      <td>0</td>\n",
       "    </tr>\n",
       "    <tr>\n",
       "      <th>1</th>\n",
       "      <td>0,00141211445559272</td>\n",
       "      <td>0,228985507246377</td>\n",
       "      <td>0,00921590486807878</td>\n",
       "      <td>0,0130063173541434</td>\n",
       "      <td>0</td>\n",
       "      <td>0</td>\n",
       "      <td>0,00594574507617986</td>\n",
       "      <td>0,0120401337792642</td>\n",
       "      <td>0,145893719806763</td>\n",
       "      <td>0</td>\n",
       "      <td>...</td>\n",
       "      <td>0</td>\n",
       "      <td>0</td>\n",
       "      <td>0</td>\n",
       "      <td>0</td>\n",
       "      <td>0</td>\n",
       "      <td>0</td>\n",
       "      <td>0</td>\n",
       "      <td>0</td>\n",
       "      <td>0</td>\n",
       "      <td>0</td>\n",
       "    </tr>\n",
       "    <tr>\n",
       "      <th>2</th>\n",
       "      <td>0,0010618312505105</td>\n",
       "      <td>0,0414930980968717</td>\n",
       "      <td>0,0115984644286531</td>\n",
       "      <td>0,0495793514661439</td>\n",
       "      <td>0</td>\n",
       "      <td>0</td>\n",
       "      <td>0,008739687984971</td>\n",
       "      <td>0,00996487788940619</td>\n",
       "      <td>0,00914808461978273</td>\n",
       "      <td>0,00269541778975741</td>\n",
       "      <td>...</td>\n",
       "      <td>0</td>\n",
       "      <td>0</td>\n",
       "      <td>0</td>\n",
       "      <td>0</td>\n",
       "      <td>0</td>\n",
       "      <td>0</td>\n",
       "      <td>0</td>\n",
       "      <td>0</td>\n",
       "      <td>0</td>\n",
       "      <td>0</td>\n",
       "    </tr>\n",
       "    <tr>\n",
       "      <th>3</th>\n",
       "      <td>0,00216740948775872</td>\n",
       "      <td>0,210055558947433</td>\n",
       "      <td>0,234934977715367</td>\n",
       "      <td>0,0906954026497344</td>\n",
       "      <td>0,000366322730325417</td>\n",
       "      <td>0,000305268941937847</td>\n",
       "      <td>0,000366322730325417</td>\n",
       "      <td>0</td>\n",
       "      <td>0,0721045240857195</td>\n",
       "      <td>0</td>\n",
       "      <td>...</td>\n",
       "      <td>0</td>\n",
       "      <td>0</td>\n",
       "      <td>0</td>\n",
       "      <td>0</td>\n",
       "      <td>0</td>\n",
       "      <td>0</td>\n",
       "      <td>0</td>\n",
       "      <td>0</td>\n",
       "      <td>0</td>\n",
       "      <td>0</td>\n",
       "    </tr>\n",
       "    <tr>\n",
       "      <th>4</th>\n",
       "      <td>0,549270472768698</td>\n",
       "      <td>0,0304079218332384</td>\n",
       "      <td>0,000438154493274329</td>\n",
       "      <td>0,00635324015247776</td>\n",
       "      <td>0</td>\n",
       "      <td>0</td>\n",
       "      <td>0,00030670814529203</td>\n",
       "      <td>0</td>\n",
       "      <td>0</td>\n",
       "      <td>0</td>\n",
       "      <td>...</td>\n",
       "      <td>0</td>\n",
       "      <td>8,76308986548657e-05</td>\n",
       "      <td>0</td>\n",
       "      <td>0</td>\n",
       "      <td>0</td>\n",
       "      <td>0</td>\n",
       "      <td>0</td>\n",
       "      <td>0</td>\n",
       "      <td>0</td>\n",
       "      <td>0</td>\n",
       "    </tr>\n",
       "  </tbody>\n",
       "</table>\n",
       "<p>5 rows × 7033 columns</p>\n",
       "</div>"
      ],
      "text/plain": [
       "                 OTU_1               OTU_2                 OTU_3  \\\n",
       "0    0,266402938683244                   0   0,00469059056230574   \n",
       "1  0,00141211445559272   0,228985507246377   0,00921590486807878   \n",
       "2   0,0010618312505105  0,0414930980968717    0,0115984644286531   \n",
       "3  0,00216740948775872   0,210055558947433     0,234934977715367   \n",
       "4    0,549270472768698  0,0304079218332384  0,000438154493274329   \n",
       "\n",
       "                 OTU_4                 OTU_5                 OTU_6  \\\n",
       "0  0,00514269567674484     0,132862390505793  0,000678157671658661   \n",
       "1   0,0130063173541434                     0                     0   \n",
       "2   0,0495793514661439                     0                     0   \n",
       "3   0,0906954026497344  0,000366322730325417  0,000305268941937847   \n",
       "4  0,00635324015247776                     0                     0   \n",
       "\n",
       "                  OTU_7                OTU_8                OTU_9  \\\n",
       "0   0,00299519638315908   0,0305170952246397   0,0394461712348121   \n",
       "1   0,00594574507617986   0,0120401337792642    0,145893719806763   \n",
       "2     0,008739687984971  0,00996487788940619  0,00914808461978273   \n",
       "3  0,000366322730325417                    0   0,0721045240857195   \n",
       "4   0,00030670814529203                    0                    0   \n",
       "\n",
       "                OTU_10  ... OTU_7024              OTU_7025 OTU_7026 OTU_7027  \\\n",
       "0                    0  ...        0                     0        0        0   \n",
       "1                    0  ...        0                     0        0        0   \n",
       "2  0,00269541778975741  ...        0                     0        0        0   \n",
       "3                    0  ...        0                     0        0        0   \n",
       "4                    0  ...        0  8,76308986548657e-05        0        0   \n",
       "\n",
       "  OTU_7028 OTU_7029 OTU_7030 OTU_7031 OTU_7032 OTU_7033  \n",
       "0        0        0        0        0        0        0  \n",
       "1        0        0        0        0        0        0  \n",
       "2        0        0        0        0        0        0  \n",
       "3        0        0        0        0        0        0  \n",
       "4        0        0        0        0        0        0  \n",
       "\n",
       "[5 rows x 7033 columns]"
      ]
     },
     "execution_count": 8,
     "metadata": {},
     "output_type": "execute_result"
    }
   ],
   "source": [
    "test_data_otu.head()"
   ]
  },
  {
   "cell_type": "markdown",
   "id": "aa52b94d",
   "metadata": {},
   "source": [
    "### Pre-Traitement"
   ]
  },
  {
   "cell_type": "code",
   "execution_count": 9,
   "id": "e7057a6a",
   "metadata": {},
   "outputs": [],
   "source": [
    "def pre_processing(data):\n",
    "    column_data = np.ravel(np.array(data.columns))\n",
    "    for i in column_data:\n",
    "        if data[i].dtypes==\"object\":\n",
    "            data[i] = [x.replace(',','.') for x in data[i]]\n",
    "    data = data.apply(pd.to_numeric)\n",
    "    return data"
   ]
  },
  {
   "cell_type": "code",
   "execution_count": 10,
   "id": "f253d674",
   "metadata": {},
   "outputs": [],
   "source": [
    "train_data_otu = pre_processing(train_data_otu)"
   ]
  },
  {
   "cell_type": "code",
   "execution_count": 11,
   "id": "5a7fc650",
   "metadata": {},
   "outputs": [
    {
     "name": "stdout",
     "output_type": "stream",
     "text": [
      "<class 'pandas.core.frame.DataFrame'>\n",
      "RangeIndex: 4965 entries, 0 to 4964\n",
      "Columns: 7033 entries, OTU_1 to OTU_7033\n",
      "dtypes: float64(7033)\n",
      "memory usage: 266.4 MB\n"
     ]
    }
   ],
   "source": [
    "train_data_otu.head()\n",
    "train_data_otu.info()"
   ]
  },
  {
   "cell_type": "code",
   "execution_count": 12,
   "id": "9d9dd9fe",
   "metadata": {},
   "outputs": [],
   "source": [
    "test_data_otu = pre_processing(test_data_otu)"
   ]
  },
  {
   "cell_type": "code",
   "execution_count": 13,
   "id": "f52f08a2",
   "metadata": {},
   "outputs": [
    {
     "name": "stdout",
     "output_type": "stream",
     "text": [
      "<class 'pandas.core.frame.DataFrame'>\n",
      "RangeIndex: 850 entries, 0 to 849\n",
      "Columns: 7033 entries, OTU_1 to OTU_7033\n",
      "dtypes: float64(6996), int64(37)\n",
      "memory usage: 45.6 MB\n"
     ]
    }
   ],
   "source": [
    "test_data_otu.head()\n",
    "test_data_otu.info()"
   ]
  },
  {
   "cell_type": "markdown",
   "id": "b3b5e5f0",
   "metadata": {},
   "source": [
    "On transforme toutes les variables de type object en float"
   ]
  },
  {
   "cell_type": "code",
   "execution_count": 14,
   "id": "4a912c45",
   "metadata": {},
   "outputs": [
    {
     "data": {
      "text/plain": [
       "4965"
      ]
     },
     "execution_count": 14,
     "metadata": {},
     "output_type": "execute_result"
    }
   ],
   "source": [
    "train_label = pd.read_csv(\"dataset/train-label.txt\",header=None)\n",
    "train_label = np.array(train_label)\n",
    "train_label\n",
    "np.unique(train_label)\n",
    "np.size(train_label)"
   ]
  },
  {
   "cell_type": "markdown",
   "id": "403f6ef9",
   "metadata": {},
   "source": [
    "On transforme les valeurs du vecteur train label en 0 et 1\n",
    "\n",
    "Healthy = 0\n",
    "\n",
    "IBD = 1"
   ]
  },
  {
   "cell_type": "code",
   "execution_count": 15,
   "id": "ff6ae0d0",
   "metadata": {},
   "outputs": [],
   "source": [
    "def encoder_train_label(data):\n",
    "    n = np.size(data)\n",
    "    for i in range(n):\n",
    "        if(data[i]=='Healthy'):\n",
    "            data[i] = 0\n",
    "        if(data[i]=='IBD'):\n",
    "            data[i] = 1\n",
    "    return data"
   ]
  },
  {
   "cell_type": "code",
   "execution_count": 16,
   "id": "4106c842",
   "metadata": {},
   "outputs": [],
   "source": [
    "train_label = np.ravel(encoder_train_label(train_label).astype(int))"
   ]
  },
  {
   "cell_type": "code",
   "execution_count": 17,
   "id": "f9144255",
   "metadata": {},
   "outputs": [
    {
     "data": {
      "text/plain": [
       "<BarContainer object of 2 artists>"
      ]
     },
     "execution_count": 17,
     "metadata": {},
     "output_type": "execute_result"
    },
    {
     "data": {
      "image/png": "[encoded data removed]",
      "text/plain": [
       "<Figure size 432x288 with 1 Axes>"
      ]
     },
     "metadata": {
      "needs_background": "light"
     },
     "output_type": "display_data"
    }
   ],
   "source": [
    "# Representation des effectifs par classe\n",
    "h = np.bincount(train_label)\n",
    "plt.bar(['0','1'],h,color=['green','red'],tick_label=['Healthy','IBD'])"
   ]
  },
  {
   "cell_type": "code",
   "execution_count": 18,
   "id": "992c6a5c",
   "metadata": {},
   "outputs": [],
   "source": [
    "from sklearn.preprocessing import StandardScaler\n",
    "def data_scaler(data):\n",
    "    scaler = StandardScaler()\n",
    "    scaler.fit(data)\n",
    "    data = scaler.transform(data)\n",
    "    return data"
   ]
  },
  {
   "cell_type": "code",
   "execution_count": 19,
   "id": "c91ca1b9",
   "metadata": {},
   "outputs": [],
   "source": [
    "train_data = pd.concat([train_data_clinical,train_data_otu],axis=1)\n",
    "test_data = pd.concat([test_data_clinical,test_data_otu],axis=1)"
   ]
  },
  {
   "cell_type": "code",
   "execution_count": 20,
   "id": "62106a1a",
   "metadata": {},
   "outputs": [
    {
     "data": {
      "text/plain": [
       "((4965, 7046), (850, 7046))"
      ]
     },
     "execution_count": 20,
     "metadata": {},
     "output_type": "execute_result"
    }
   ],
   "source": [
    "train_data.shape, test_data.shape"
   ]
  },
  {
   "cell_type": "code",
   "execution_count": 21,
   "id": "2e173458",
   "metadata": {},
   "outputs": [],
   "source": [
    "train_data_scalar = data_scaler(train_data)\n",
    "test_data_scalar = data_scaler(test_data)"
   ]
  },
  {
   "cell_type": "code",
   "execution_count": 22,
   "id": "860de040",
   "metadata": {},
   "outputs": [
    {
     "data": {
      "text/plain": [
       "[<matplotlib.lines.Line2D at 0x7fc5c43274f0>]"
      ]
     },
     "execution_count": 22,
     "metadata": {},
     "output_type": "execute_result"
    },
    {
     "data": {
      "image/png": "[encoded data removed]",
      "text/plain": [
       "<Figure size 432x288 with 2 Axes>"
      ]
     },
     "metadata": {
      "needs_background": "light"
     },
     "output_type": "display_data"
    }
   ],
   "source": [
    "from sklearn.decomposition import PCA\n",
    "import seaborn as sn\n",
    "pca = PCA(n_components=100)\n",
    "pca.fit(train_data)\n",
    "coord = pca.fit_transform(train_data_scalar)\n",
    "pca_frame = pd.DataFrame(coord[:,range(2)],columns=['PC1','PC2'])\n",
    "pca_frame=pd.concat([pca_frame,pd.DataFrame(train_label,columns=['y'])],axis=1)\n",
    "plt.subplot(121)\n",
    "sn.scatterplot(x='PC1',y='PC2',hue='y',data=pca_frame)\n",
    "plt.legend()\n",
    "plt.subplot(122)\n",
    "plt.plot(pca.explained_variance_,color=\"red\")"
   ]
  },
  {
   "cell_type": "markdown",
   "id": "f8045aff",
   "metadata": {},
   "source": [
    "### On définit les données (train,test) pour entrainer et tester nos differents modéles "
   ]
  },
  {
   "cell_type": "code",
   "execution_count": 23,
   "id": "27efcf73",
   "metadata": {},
   "outputs": [],
   "source": [
    "from sklearn.model_selection import train_test_split\n",
    "X_train,X_test,y_train,y_test = train_test_split(train_data_scalar,train_label,test_size=0.2,random_state=42)"
   ]
  },
  {
   "cell_type": "code",
   "execution_count": 24,
   "id": "55cc66c7",
   "metadata": {},
   "outputs": [
    {
     "data": {
      "text/plain": [
       "((3972, 7046), (993, 7046), 3972, 993)"
      ]
     },
     "execution_count": 24,
     "metadata": {},
     "output_type": "execute_result"
    }
   ],
   "source": [
    "X_train.shape, X_test.shape, np.size(y_train), np.size(y_test)"
   ]
  },
  {
   "cell_type": "markdown",
   "id": "2fa0065b",
   "metadata": {},
   "source": [
    "### Une fonction permettant de choisir un modéle"
   ]
  },
  {
   "cell_type": "code",
   "execution_count": 25,
   "id": "cea2609f",
   "metadata": {},
   "outputs": [],
   "source": [
    "from sklearn.metrics import accuracy_score\n",
    "def model_selection(model,x_train,y_train,x_test,y_test):\n",
    "    model.fit(x_train,y_train)\n",
    "    y_pred = model.predict(x_test)\n",
    "    acc_score = accuracy_score(y_test,y_pred)\n",
    "    vect_pred = model.predict_proba(x_test)[:,1]\n",
    "    res_model = {'acc_score':acc_score,'vect_pred':vect_pred,'model':model}\n",
    "    return res_model"
   ]
  },
  {
   "cell_type": "markdown",
   "id": "c6f40b50",
   "metadata": {},
   "source": [
    "### Ici on crée un fonction permettant de tracer la courbe ROC et le score AUC"
   ]
  },
  {
   "cell_type": "code",
   "execution_count": 26,
   "id": "91562259",
   "metadata": {},
   "outputs": [],
   "source": [
    "def courbe_roc_auc(test,vect_prob) :\n",
    "    fpr_clinical_otu,tpr_clinical_otu,thres_clinical_otu = roc_curve(test, vect_prob)\n",
    "    auc_clinical_otu = roc_auc_score(test,vect_prob)\n",
    "    plt.plot(fpr_clinical_otu,tpr_clinical_otu,label=\"AUC=\"+str(np.round(auc_clinical_otu,2)))\n",
    "    plt.plot([0, 1], [0, 1], 'r--')\n",
    "    plt.title('Courbe roc')\n",
    "    plt.xlabel('False Positive Rate')\n",
    "    plt.ylabel('True Positive Rate')\n",
    "    plt.legend()\n",
    "    plt.show()"
   ]
  },
  {
   "cell_type": "markdown",
   "id": "9d6ebce0",
   "metadata": {},
   "source": [
    "### Modéle 1 : Kneighbor KNeighborsClassifier"
   ]
  },
  {
   "cell_type": "code",
   "execution_count": 27,
   "id": "fa592176",
   "metadata": {},
   "outputs": [],
   "source": [
    "from sklearn.neighbors import KNeighborsClassifier\n",
    "model_1 = KNeighborsClassifier(n_neighbors=4)\n",
    "model_1_clinical_otu = model_selection(model_1,X_train,y_train,X_test,y_test)"
   ]
  },
  {
   "cell_type": "code",
   "execution_count": 28,
   "id": "bead2c06",
   "metadata": {},
   "outputs": [
    {
     "name": "stdout",
     "output_type": "stream",
     "text": [
      "accuracy_score =  0.9526686807653575\n"
     ]
    }
   ],
   "source": [
    "print(\"accuracy_score = \",model_1_clinical_otu['acc_score'])"
   ]
  },
  {
   "cell_type": "markdown",
   "id": "02a1da18",
   "metadata": {},
   "source": [
    "Courbe ROC"
   ]
  },
  {
   "cell_type": "code",
   "execution_count": 29,
   "id": "13eb5ffa",
   "metadata": {},
   "outputs": [
    {
     "data": {
      "image/png": "[encoded data removed]",
      "text/plain": [
       "<Figure size 432x288 with 1 Axes>"
      ]
     },
     "metadata": {
      "needs_background": "light"
     },
     "output_type": "display_data"
    }
   ],
   "source": [
    "courbe_roc_auc(y_test,model_1_clinical_otu['vect_pred'])"
   ]
  },
  {
   "cell_type": "markdown",
   "id": "fae6360f",
   "metadata": {},
   "source": [
    "### Modéle 2 : Regression logistique "
   ]
  },
  {
   "cell_type": "code",
   "execution_count": 30,
   "id": "92db41f2",
   "metadata": {},
   "outputs": [],
   "source": [
    "from sklearn.linear_model import LogisticRegression\n",
    "model_2 = LogisticRegression(penalty=\"l2\",max_iter=1000,random_state=0,solver=\"lbfgs\")\n",
    "model_2_clinical_otu = model_selection(model_2,X_train,y_train,X_test,y_test)"
   ]
  },
  {
   "cell_type": "code",
   "execution_count": 31,
   "id": "16f77229",
   "metadata": {},
   "outputs": [
    {
     "name": "stdout",
     "output_type": "stream",
     "text": [
      "accuracy_score =  0.9496475327291037\n"
     ]
    }
   ],
   "source": [
    "print(\"accuracy_score = \",model_2_clinical_otu['acc_score'])"
   ]
  },
  {
   "cell_type": "code",
   "execution_count": 32,
   "id": "e0161fa2",
   "metadata": {},
   "outputs": [
    {
     "data": {
      "image/png": "[encoded data removed]",
      "text/plain": [
       "<Figure size 432x288 with 1 Axes>"
      ]
     },
     "metadata": {
      "needs_background": "light"
     },
     "output_type": "display_data"
    }
   ],
   "source": [
    "courbe_roc_auc(y_test,model_2_clinical_otu['vect_pred'])"
   ]
  },
  {
   "cell_type": "markdown",
   "id": "be071951",
   "metadata": {},
   "source": [
    "### Méthode de cross-validation\n"
   ]
  },
  {
   "cell_type": "code",
   "execution_count": 33,
   "id": "565256d5",
   "metadata": {},
   "outputs": [],
   "source": [
    "from sklearn.model_selection import cross_val_score\n",
    "def model_selection_cross_val(model,x_train,y_train):\n",
    "    score_auc = cross_val_score(model,x_train,y_train,cv=10,scoring='roc_auc')\n",
    "    return score_auc\n",
    "log_reg_auc = model_selection_cross_val(model_2,X_train,y_train)"
   ]
  },
  {
   "cell_type": "code",
   "execution_count": 62,
   "id": "783ec159",
   "metadata": {},
   "outputs": [
    {
     "data": {
      "text/plain": [
       "Text(0.5, 1.0, 'Evolution du score par cross-validation')"
      ]
     },
     "execution_count": 62,
     "metadata": {},
     "output_type": "execute_result"
    },
    {
     "data": {
      "image/png": "[encoded data removed]",
      "text/plain": [
       "<Figure size 432x288 with 1 Axes>"
      ]
     },
     "metadata": {
      "needs_background": "light"
     },
     "output_type": "display_data"
    }
   ],
   "source": [
    "plt.plot(log_reg_auc,label='auc_moyenne='+str(round(log_reg_auc.mean(),2)))\n",
    "plt.legend()\n",
    "plt.title('Evolution du score par cross-validation')"
   ]
  },
  {
   "cell_type": "markdown",
   "id": "8990d998",
   "metadata": {},
   "source": [
    "Methode 3 : Random Forest"
   ]
  },
  {
   "cell_type": "code",
   "execution_count": 35,
   "id": "e31adceb",
   "metadata": {},
   "outputs": [],
   "source": [
    "from sklearn.ensemble import RandomForestClassifier\n",
    "model_3 = RandomForestClassifier(n_estimators=700,criterion=\"entropy\") \n",
    "model_3_clinical_otu = model_selection(model_3,X_train,y_train,X_test,y_test)"
   ]
  },
  {
   "cell_type": "code",
   "execution_count": 36,
   "id": "bd26cd3a",
   "metadata": {},
   "outputs": [
    {
     "name": "stdout",
     "output_type": "stream",
     "text": [
      "accuracy_score =  0.9526686807653575\n"
     ]
    }
   ],
   "source": [
    "print(\"accuracy_score = \",model_3_clinical_otu['acc_score'])"
   ]
  },
  {
   "cell_type": "code",
   "execution_count": 37,
   "id": "d75af439",
   "metadata": {},
   "outputs": [
    {
     "data": {
      "image/png": "[encoded data removed]",
      "text/plain": [
       "<Figure size 432x288 with 1 Axes>"
      ]
     },
     "metadata": {
      "needs_background": "light"
     },
     "output_type": "display_data"
    }
   ],
   "source": [
    "courbe_roc_auc(y_test,model_3_clinical_otu['vect_pred'])"
   ]
  },
  {
   "cell_type": "markdown",
   "id": "50003ef1",
   "metadata": {},
   "source": [
    "#### Modéle de selection de variable"
   ]
  },
  {
   "cell_type": "code",
   "execution_count": 38,
   "id": "d6e5aaec",
   "metadata": {},
   "outputs": [
    {
     "data": {
      "text/plain": [
       "1457    0.006661\n",
       "2916    0.005965\n",
       "815     0.005475\n",
       "3124    0.005408\n",
       "3172    0.005183\n",
       "          ...   \n",
       "5318    0.000000\n",
       "5317    0.000000\n",
       "5314    0.000000\n",
       "5311    0.000000\n",
       "7045    0.000000\n",
       "Length: 7046, dtype: float64"
      ]
     },
     "execution_count": 38,
     "metadata": {},
     "output_type": "execute_result"
    }
   ],
   "source": [
    "# Ici on récupere le score de chaque variable \n",
    "feature_score = pd.Series(model_3_clinical_otu['model'].feature_importances_).sort_values(ascending=False)\n",
    "feature_score"
   ]
  },
  {
   "cell_type": "code",
   "execution_count": 39,
   "id": "185025e1",
   "metadata": {},
   "outputs": [
    {
     "data": {
      "text/plain": [
       "OTU_1445    0.006661\n",
       "OTU_2904    0.005965\n",
       "OTU_803     0.005475\n",
       "OTU_3112    0.005408\n",
       "OTU_3160    0.005183\n",
       "              ...   \n",
       "OTU_5306    0.000000\n",
       "OTU_5305    0.000000\n",
       "OTU_5302    0.000000\n",
       "OTU_5299    0.000000\n",
       "OTU_7033    0.000000\n",
       "Length: 7046, dtype: float64"
      ]
     },
     "execution_count": 39,
     "metadata": {},
     "output_type": "execute_result"
    }
   ],
   "source": [
    "feature_score_df = pd.Series(model_3_clinical_otu['model'].feature_importances_,index=train_data.columns).sort_values(ascending=False)\n",
    "feature_score_df"
   ]
  },
  {
   "cell_type": "code",
   "execution_count": 40,
   "id": "677b741b",
   "metadata": {},
   "outputs": [
    {
     "data": {
      "text/plain": [
       "Int64Index([1457, 2916,  815, 3124, 3172, 2503,    4,   43, 1333, 2222,\n",
       "            ...\n",
       "            6017, 5625, 5060, 5456, 5574,  682, 5424, 2868,  249, 5837],\n",
       "           dtype='int64', length=5754)"
      ]
     },
     "execution_count": 40,
     "metadata": {},
     "output_type": "execute_result"
    }
   ],
   "source": [
    "ind_to_select = feature_score[feature_score!=0].index\n",
    "ind_to_select"
   ]
  },
  {
   "cell_type": "code",
   "execution_count": 41,
   "id": "2f9f3c11",
   "metadata": {},
   "outputs": [],
   "source": [
    "X_train_new = X_train[:,ind_to_select]\n",
    "X_test_new = X_test[:,ind_to_select]"
   ]
  },
  {
   "cell_type": "code",
   "execution_count": 42,
   "id": "4472f703",
   "metadata": {},
   "outputs": [
    {
     "data": {
      "text/plain": [
       "((3972, 5754), (993, 5754))"
      ]
     },
     "execution_count": 42,
     "metadata": {},
     "output_type": "execute_result"
    }
   ],
   "source": [
    "X_train_new.shape, X_test_new.shape"
   ]
  },
  {
   "cell_type": "code",
   "execution_count": 43,
   "id": "b79c7b7b",
   "metadata": {},
   "outputs": [],
   "source": [
    "model_3_new = RandomForestClassifier(n_estimators=700,criterion=\"entropy\") "
   ]
  },
  {
   "cell_type": "code",
   "execution_count": 44,
   "id": "a4396322",
   "metadata": {},
   "outputs": [
    {
     "data": {
      "image/png": "[encoded data removed]",
      "text/plain": [
       "<Figure size 432x288 with 1 Axes>"
      ]
     },
     "metadata": {
      "needs_background": "light"
     },
     "output_type": "display_data"
    }
   ],
   "source": [
    "auc_new = np.array([])\n",
    "for i in range(10):\n",
    "    model_3_new.fit(X_train_new,y_train)\n",
    "    fpr_new,tpr_new,thres_new = roc_curve(y_test, model_3_new.predict_proba(X_test_new)[:,1])\n",
    "    auc_new = np.append(auc_new,roc_auc_score(y_test,model_3_new.predict_proba(X_test_new)[:,1]))\n",
    "    plt.plot(fpr_new,tpr_new,label=\"AUC=\"+str(np.round(auc_new[i],2)))\n",
    "    plt.plot([0, 1], [0, 1], 'r--')\n",
    "    plt.legend()\n",
    "plt.title('Courbe roc')\n",
    "plt.xlabel('False Positive Rate')\n",
    "plt.ylabel('True Positive Rate')\n",
    "plt.show()"
   ]
  },
  {
   "cell_type": "code",
   "execution_count": 45,
   "id": "38c43504",
   "metadata": {},
   "outputs": [
    {
     "data": {
      "text/plain": [
       "0.7731566820276498"
      ]
     },
     "execution_count": 45,
     "metadata": {},
     "output_type": "execute_result"
    }
   ],
   "source": [
    "# Ici on calcul la moyenne des score AUC obtenus\n",
    "mean_auc = np.mean(auc_new)\n",
    "mean_auc"
   ]
  },
  {
   "cell_type": "markdown",
   "id": "46e2d3cb",
   "metadata": {},
   "source": [
    "Modéle 4 : SVC"
   ]
  },
  {
   "cell_type": "code",
   "execution_count": 46,
   "id": "3b1a25ba",
   "metadata": {},
   "outputs": [],
   "source": [
    "from sklearn.svm import SVC\n",
    "model_4 = SVC(C=2,probability=True,kernel=\"linear\")\n",
    "model_4_clinical_otu = model_selection(model_4,X_train,y_train,X_test,y_test)"
   ]
  },
  {
   "cell_type": "code",
   "execution_count": 47,
   "id": "88215a8c",
   "metadata": {},
   "outputs": [
    {
     "data": {
      "image/png": "[encoded data removed]",
      "text/plain": [
       "<Figure size 432x288 with 1 Axes>"
      ]
     },
     "metadata": {
      "needs_background": "light"
     },
     "output_type": "display_data"
    }
   ],
   "source": [
    "courbe_roc_auc(y_test,model_4_clinical_otu['vect_pred'])"
   ]
  },
  {
   "cell_type": "markdown",
   "id": "a0f258ab",
   "metadata": {},
   "source": [
    "### Matrice de confusion"
   ]
  },
  {
   "cell_type": "code",
   "execution_count": 48,
   "id": "9725d50b",
   "metadata": {},
   "outputs": [],
   "source": [
    "from sklearn.metrics import confusion_matrix\n",
    "import seaborn as sns\n",
    "def conf_matrix(y_true,x_test,model):\n",
    "    cm = confusion_matrix(y_true,model.predict(x_test))\n",
    "    cm_matrix = pd.DataFrame(data=cm, columns=['Actual Positive:1', 'Actual Negative:0'], \n",
    "                                 index=['Predict Positive:1', 'Predict Negative:0'])\n",
    "    mat_conf = sns.heatmap(cm_matrix,annot=True, fmt='d', cmap='YlGnBu')\n",
    "    plt.title('Matrice de confusion')\n",
    "    return mat_conf"
   ]
  },
  {
   "cell_type": "code",
   "execution_count": 49,
   "id": "fed29d74",
   "metadata": {},
   "outputs": [
    {
     "data": {
      "text/plain": [
       "<AxesSubplot:title={'center':'Matrice de confusion'}>"
      ]
     },
     "execution_count": 49,
     "metadata": {},
     "output_type": "execute_result"
    },
    {
     "data": {
      "image/png": "[encoded data removed]",
      "text/plain": [
       "<Figure size 432x288 with 2 Axes>"
      ]
     },
     "metadata": {
      "needs_background": "light"
     },
     "output_type": "display_data"
    }
   ],
   "source": [
    "conf_matrix(y_test,X_test,model_1_clinical_otu['model'])"
   ]
  },
  {
   "cell_type": "code",
   "execution_count": 50,
   "id": "9fea5752",
   "metadata": {},
   "outputs": [
    {
     "data": {
      "text/plain": [
       "<AxesSubplot:title={'center':'Matrice de confusion'}>"
      ]
     },
     "execution_count": 50,
     "metadata": {},
     "output_type": "execute_result"
    },
    {
     "data": {
      "image/png": "[encoded data removed]",
      "text/plain": [
       "<Figure size 432x288 with 2 Axes>"
      ]
     },
     "metadata": {
      "needs_background": "light"
     },
     "output_type": "display_data"
    }
   ],
   "source": [
    "conf_matrix(y_test,X_test,model_2_clinical_otu['model'])"
   ]
  },
  {
   "cell_type": "code",
   "execution_count": 51,
   "id": "52d9d279",
   "metadata": {},
   "outputs": [
    {
     "data": {
      "text/plain": [
       "<AxesSubplot:title={'center':'Matrice de confusion'}>"
      ]
     },
     "execution_count": 51,
     "metadata": {},
     "output_type": "execute_result"
    },
    {
     "data": {
      "image/png": "[encoded data removed]",
      "text/plain": [
       "<Figure size 432x288 with 2 Axes>"
      ]
     },
     "metadata": {
      "needs_background": "light"
     },
     "output_type": "display_data"
    }
   ],
   "source": [
    "conf_matrix(y_test,X_test,model_3_clinical_otu['model'])"
   ]
  },
  {
   "cell_type": "code",
   "execution_count": 52,
   "id": "cc17018c",
   "metadata": {},
   "outputs": [
    {
     "data": {
      "text/plain": [
       "<AxesSubplot:title={'center':'Matrice de confusion'}>"
      ]
     },
     "execution_count": 52,
     "metadata": {},
     "output_type": "execute_result"
    },
    {
     "data": {
      "image/png": "[encoded data removed]",
      "text/plain": [
       "<Figure size 432x288 with 2 Axes>"
      ]
     },
     "metadata": {
      "needs_background": "light"
     },
     "output_type": "display_data"
    }
   ],
   "source": [
    "conf_matrix(y_test,X_test,model_4_clinical_otu['model'])"
   ]
  },
  {
   "cell_type": "markdown",
   "id": "abda444c",
   "metadata": {},
   "source": [
    "### Ici on définit un modèle de perceptron multi-couches"
   ]
  },
  {
   "cell_type": "code",
   "execution_count": 53,
   "id": "24e1415b",
   "metadata": {},
   "outputs": [],
   "source": [
    "# specify tensorflow version\n",
    "tensorflow_version = \"V2\""
   ]
  },
  {
   "cell_type": "code",
   "execution_count": 54,
   "id": "e8335981",
   "metadata": {},
   "outputs": [],
   "source": [
    "# import packages\n",
    "import csv\n",
    "import os\n",
    "import numpy as np\n",
    "import matplotlib.pyplot as plt\n",
    "from sklearn.metrics import confusion_matrix\n",
    "import pickle\n",
    "# import tensorflow requirements - depending on version\n",
    "if tensorflow_version == \"V1\":\n",
    "    from keras import backend as K\n",
    "    from keras.models import Model\n",
    "    from keras.models import Sequential\n",
    "    from keras.models import load_model\n",
    "    from keras.layers import Dense, Activation, Flatten\n",
    "    from keras.layers import Conv2D, MaxPooling2D\n",
    "    from keras.utils import to_categorical\n",
    "if tensorflow_version == \"V2\":\n",
    "    from tensorflow.keras.models import Model\n",
    "    from tensorflow.keras.models import Sequential\n",
    "    from tensorflow.keras.models import load_model\n",
    "    from tensorflow.keras.layers import Dense, Activation, Flatten\n",
    "    from tensorflow.keras.layers import Conv2D, MaxPooling2D\n",
    "    from tensorflow.keras.utils import to_categorical\n",
    "# set random seed\n",
    "np.random.seed(123)"
   ]
  },
  {
   "cell_type": "code",
   "execution_count": 55,
   "id": "dd3bba74",
   "metadata": {},
   "outputs": [],
   "source": [
    "model_neuronal = Sequential()\n",
    "n_units = 1\n",
    "input_dim = X_train.shape[1]\n",
    "model_neuronal.add(Dense(n_units,input_dim=input_dim,activation=\"relu\"))\n",
    "model_neuronal.add(Dense(1,activation=\"sigmoid\"))"
   ]
  },
  {
   "cell_type": "code",
   "execution_count": 56,
   "id": "8829cf9d",
   "metadata": {},
   "outputs": [
    {
     "name": "stdout",
     "output_type": "stream",
     "text": [
      "Model: \"sequential\"\n",
      "_________________________________________________________________\n",
      "Layer (type)                 Output Shape              Param #   \n",
      "=================================================================\n",
      "dense (Dense)                (None, 1)                 7047      \n",
      "_________________________________________________________________\n",
      "dense_1 (Dense)              (None, 1)                 2         \n",
      "=================================================================\n",
      "Total params: 7,049\n",
      "Trainable params: 7,049\n",
      "Non-trainable params: 0\n",
      "_________________________________________________________________\n"
     ]
    }
   ],
   "source": [
    "model_neuronal.summary()"
   ]
  },
  {
   "cell_type": "code",
   "execution_count": 57,
   "id": "258e44a5",
   "metadata": {},
   "outputs": [],
   "source": [
    "model_neuronal.compile(optimizer='adam', loss='binary_crossentropy', metrics=['accuracy','AUC']) "
   ]
  },
  {
   "cell_type": "code",
   "execution_count": 58,
   "id": "d9990cd7",
   "metadata": {},
   "outputs": [
    {
     "name": "stdout",
     "output_type": "stream",
     "text": [
      "Epoch 1/10\n",
      "125/125 [==============================] - 1s 3ms/step - loss: 0.3632 - accuracy: 0.9449 - auc: 0.6398\n",
      "Epoch 2/10\n",
      "125/125 [==============================] - 0s 2ms/step - loss: 0.2529 - accuracy: 0.9449 - auc: 0.7815\n",
      "Epoch 3/10\n",
      "125/125 [==============================] - 0s 2ms/step - loss: 0.1960 - accuracy: 0.9449 - auc: 0.8583\n",
      "Epoch 4/10\n",
      "125/125 [==============================] - 0s 1ms/step - loss: 0.1696 - accuracy: 0.9449 - auc: 0.8845\n",
      "Epoch 5/10\n",
      "125/125 [==============================] - 0s 2ms/step - loss: 0.1550 - accuracy: 0.9449 - auc: 0.8923\n",
      "Epoch 6/10\n",
      "125/125 [==============================] - 0s 2ms/step - loss: 0.1474 - accuracy: 0.9449 - auc: 0.8971\n",
      "Epoch 7/10\n",
      "125/125 [==============================] - 0s 2ms/step - loss: 0.1412 - accuracy: 0.9449 - auc: 0.9011\n",
      "Epoch 8/10\n",
      "125/125 [==============================] - 0s 2ms/step - loss: 0.1372 - accuracy: 0.9449 - auc: 0.9084\n",
      "Epoch 9/10\n",
      "125/125 [==============================] - 0s 3ms/step - loss: 0.1360 - accuracy: 0.9449 - auc: 0.9102\n",
      "Epoch 10/10\n",
      "125/125 [==============================] - 0s 2ms/step - loss: 0.1339 - accuracy: 0.9449 - auc: 0.9120\n"
     ]
    }
   ],
   "source": [
    "model_neuronal_fit = model_neuronal.fit(X_train,y_train,batch_size=32,epochs=10,verbose=1)"
   ]
  },
  {
   "cell_type": "code",
   "execution_count": 59,
   "id": "7ad10f24",
   "metadata": {},
   "outputs": [
    {
     "data": {
      "text/plain": [
       "<matplotlib.legend.Legend at 0x7fc5101a3670>"
      ]
     },
     "execution_count": 59,
     "metadata": {},
     "output_type": "execute_result"
    },
    {
     "data": {
      "image/png": "[encoded data removed]",
      "text/plain": [
       "<Figure size 432x288 with 1 Axes>"
      ]
     },
     "metadata": {
      "needs_background": "light"
     },
     "output_type": "display_data"
    }
   ],
   "source": [
    "plt.plot(model_neuronal_fit.history['auc'],label=\"AUC\")\n",
    "plt.plot(model_neuronal_fit.history['loss'],label=\"Loss\")\n",
    "plt.legend()"
   ]
  },
  {
   "cell_type": "markdown",
   "id": "424c928b",
   "metadata": {},
   "source": [
    "### Sauvegarde de données de prédiction"
   ]
  },
  {
   "cell_type": "code",
   "execution_count": 60,
   "id": "dae30a82",
   "metadata": {},
   "outputs": [],
   "source": [
    "pred_model_rl = model_2_clinical_otu['model'].predict_proba(X_test)\n",
    "pd.DataFrame(pred_model_rl,columns=['HEALTHY','IBD']).to_csv('prediction_reg_log',sep=\";\",index=False)"
   ]
  },
  {
   "cell_type": "code",
   "execution_count": 61,
   "id": "85023a02",
   "metadata": {},
   "outputs": [
    {
     "data": {
      "text/plain": [
       "array([[9.99524872e-01, 4.75127723e-04],\n",
       "       [9.91358134e-01, 8.64186608e-03],\n",
       "       [9.99982719e-01, 1.72814174e-05],\n",
       "       ...,\n",
       "       [9.99997319e-01, 2.68134838e-06],\n",
       "       [9.96940638e-01, 3.05936157e-03],\n",
       "       [9.99239310e-01, 7.60689841e-04]])"
      ]
     },
     "execution_count": 61,
     "metadata": {},
     "output_type": "execute_result"
    }
   ],
   "source": [
    "pred_model_rl"
   ]
  }
 ],
 "metadata": {
  "interpreter": {
   "hash": "ed225720166559e7176d3793db16a2fd8d295f725007103b21ac3099d2a89ee8"
  },
  "kernelspec": {
   "display_name": "Python 3 (ipykernel)",
   "language": "python",
   "name": "python3"
  },
  "language_info": {
   "codemirror_mode": {
    "name": "ipython",
    "version": 3
   },
   "file_extension": ".py",
   "mimetype": "text/x-python",
   "name": "python",
   "nbconvert_exporter": "python",
   "pygments_lexer": "ipython3",
   "version": "3.8.8"
  }
 },
 "nbformat": 4,
 "nbformat_minor": 5
}
